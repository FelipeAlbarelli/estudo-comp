{
 "cells": [
  {
   "cell_type": "code",
   "execution_count": 9,
   "id": "9fed189b-cdbc-48ee-8d45-adc50781dc34",
   "metadata": {},
   "outputs": [],
   "source": [
    "def mean(xs) -> float:\n",
    " return sum(xs) / len(xs)"
   ]
  },
  {
   "cell_type": "code",
   "execution_count": 10,
   "id": "276e5126-2dcc-473b-845f-db4e7923c0ff",
   "metadata": {},
   "outputs": [],
   "source": [
    "def _median_odd(xs) -> float:\n",
    " \"\"\"If len(xs) is odd, the median is the middle element\"\"\"\n",
    " return sorted(xs)[len(xs) // 2]\n",
    "def _median_even(xs) -> float:\n",
    " \"\"\"If len(xs) is even, it's the average of the middle two elements\"\"\"\n",
    " sorted_xs = sorted(xs)\n",
    " hi_midpoint = len(xs) // 2 # e.g. length 4 => hi_midpoint 2\n",
    " return (sorted_xs[hi_midpoint - 1] + sorted_xs[hi_midpoint]) / 2\n",
    "def median(v) -> float:\n",
    " \"\"\"Finds the 'middle-most' value of v\"\"\"\n",
    " return _median_even(v) if len(v) % 2 == 0 else _median_odd(v)"
   ]
  },
  {
   "cell_type": "code",
   "execution_count": 11,
   "id": "7f7941b2-891e-4e3c-989a-76dc5b87c3af",
   "metadata": {},
   "outputs": [],
   "source": [
    "assert median([1,10 , 2 , 9 , 5]) == 5"
   ]
  },
  {
   "cell_type": "code",
   "execution_count": 12,
   "id": "8e41cd0b-292c-43df-8d3a-b50ce8e1bff6",
   "metadata": {},
   "outputs": [],
   "source": [
    "def quantile(xs, p: float) -> float:\n",
    " \"\"\"Returns the pth-percentile value in x\"\"\"\n",
    " p_index = int(p * len(xs))\n",
    " return sorted(xs)[p_index]"
   ]
  },
  {
   "cell_type": "code",
   "execution_count": 13,
   "id": "74ddd1e0-7a4f-4066-b393-d8658b5cc085",
   "metadata": {},
   "outputs": [],
   "source": [
    "def mode(x) :\n",
    " \"\"\"Returns a list, since there might be more than one mode\"\"\"\n",
    " counts = Counter(x)\n",
    " max_count = max(counts.values())\n",
    " return [x_i for x_i, count in counts.items()]\n"
   ]
  },
  {
   "cell_type": "markdown",
   "id": "b5fabf96-edf2-4eac-908a-dfd9a1ee5d79",
   "metadata": {},
   "source": [
    "### Disperção"
   ]
  },
  {
   "cell_type": "code",
   "execution_count": 14,
   "id": "288ba172-3158-4222-a8b2-82681bb8ea1e",
   "metadata": {},
   "outputs": [],
   "source": [
    "def data_range(xs):\n",
    "    return max(xs) - min(xs)"
   ]
  },
  {
   "cell_type": "code",
   "execution_count": 15,
   "id": "cf469ab9-b667-4965-adf0-8b91cce4952f",
   "metadata": {},
   "outputs": [
    {
     "data": {
      "text/plain": [
       "9801"
      ]
     },
     "execution_count": 15,
     "metadata": {},
     "output_type": "execute_result"
    }
   ],
   "source": [
    "data_range([ x**2 for x in range(100)])"
   ]
  },
  {
   "cell_type": "code",
   "execution_count": 16,
   "id": "5410c92f-28f1-45ee-a4a3-833b742c8b3e",
   "metadata": {},
   "outputs": [],
   "source": [
    "def de_mean(xs):\n",
    "    x_bar = mean(xs)\n",
    "    return [x - x_bar for x in xs]"
   ]
  },
  {
   "cell_type": "code",
   "execution_count": 19,
   "id": "8c10bf04-f56e-4e8d-a062-2513526f06ad",
   "metadata": {},
   "outputs": [],
   "source": [
    "def variance(xs):\n",
    "    assert len(xs) >=2\n",
    "    n = len(xs)\n",
    "    return sum([x**2 for x in de_mean(xs)]) / n"
   ]
  },
  {
   "cell_type": "code",
   "execution_count": 26,
   "id": "13b190da-d4d7-4898-b161-31450bca7e5d",
   "metadata": {},
   "outputs": [
    {
     "data": {
      "text/plain": [
       "32.0"
      ]
     },
     "execution_count": 26,
     "metadata": {},
     "output_type": "execute_result"
    }
   ],
   "source": [
    "variance([ x*4 for x in range(5) ])"
   ]
  },
  {
   "cell_type": "code",
   "execution_count": 27,
   "id": "e875f438-8bc9-4215-9f16-65b946012abc",
   "metadata": {},
   "outputs": [],
   "source": [
    "import math\n",
    "\n",
    "def standart_deviation(xs):\n",
    "    return math.sqrt(variance(xs))"
   ]
  },
  {
   "cell_type": "code",
   "execution_count": 30,
   "id": "eff47a59-568f-4916-a4fa-23cbfe234be8",
   "metadata": {},
   "outputs": [
    {
     "data": {
      "text/plain": [
       "2.8284271247461903"
      ]
     },
     "execution_count": 30,
     "metadata": {},
     "output_type": "execute_result"
    }
   ],
   "source": [
    "standart_deviation( [x*2 for x in range(5)] )"
   ]
  },
  {
   "cell_type": "code",
   "execution_count": 31,
   "id": "f339d49f-27e8-4185-af55-61d738d6128e",
   "metadata": {},
   "outputs": [],
   "source": [
    "def interquartile_range(xs):\n",
    "    return quantile(xs , .75) - quantile(xs , .25)"
   ]
  },
  {
   "cell_type": "code",
   "execution_count": 32,
   "id": "218e44ec-95df-4cbb-bdd0-09c31da4a7fb",
   "metadata": {},
   "outputs": [
    {
     "data": {
      "text/plain": [
       "4"
      ]
     },
     "execution_count": 32,
     "metadata": {},
     "output_type": "execute_result"
    }
   ],
   "source": [
    "interquartile_range([x*2 for x in range(5)])"
   ]
  },
  {
   "cell_type": "markdown",
   "id": "6bdbee24-a582-4c00-af39-69d95e1fdbea",
   "metadata": {},
   "source": [
    "### Correlação"
   ]
  },
  {
   "cell_type": "code",
   "execution_count": null,
   "id": "ac4975b7-315a-4662-836d-94a9f655f574",
   "metadata": {},
   "outputs": [],
   "source": [
    "}"
   ]
  }
 ],
 "metadata": {
  "kernelspec": {
   "display_name": "Python 3 (ipykernel)",
   "language": "python",
   "name": "python3"
  },
  "language_info": {
   "codemirror_mode": {
    "name": "ipython",
    "version": 3
   },
   "file_extension": ".py",
   "mimetype": "text/x-python",
   "name": "python",
   "nbconvert_exporter": "python",
   "pygments_lexer": "ipython3",
   "version": "3.9.7"
  }
 },
 "nbformat": 4,
 "nbformat_minor": 5
}
